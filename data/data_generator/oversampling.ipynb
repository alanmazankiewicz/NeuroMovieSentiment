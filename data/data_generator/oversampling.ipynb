{
 "cells": [
  {
   "cell_type": "code",
   "execution_count": 1,
   "metadata": {},
   "outputs": [],
   "source": [
    "# creates balanced train dataset using oversampling\n",
    "\n",
    "import pandas as pd\n",
    "from collections import Counter\n",
    "from imblearn.over_sampling import RandomOverSampler"
   ]
  },
  {
   "cell_type": "code",
   "execution_count": 2,
   "metadata": {},
   "outputs": [],
   "source": [
    "path = '../Kaggle'\n",
    "train_local = pd.read_csv(f'{path}/train_local.csv')"
   ]
  },
  {
   "cell_type": "code",
   "execution_count": 3,
   "metadata": {},
   "outputs": [],
   "source": [
    "def balance_data(train, savename):\n",
    "    X = train.iloc[:,0:3]\n",
    "    y = train.iloc[:,-1]\n",
    "\n",
    "    ros = RandomOverSampler(random_state=0)\n",
    "    X_resampled, y_resampled = ros.fit_resample(X, y)\n",
    "\n",
    "    print('frequency distribution balanced data: ', sorted(Counter(y_resampled).items()))\n",
    "\n",
    "    train_balanced = pd.DataFrame(X_resampled, columns=['PhraseId', 'SentenceId', 'Phrase'])\n",
    "    train_balanced['Sentiment'] = y_resampled\n",
    "    print('head: ', train_balanced.head())\n",
    "    print('shape: ',train_balanced.shape)\n",
    "    train_balanced.to_csv(f'{path}/{savename}', header = True, index=False)"
   ]
  },
  {
   "cell_type": "code",
   "execution_count": 4,
   "metadata": {},
   "outputs": [
    {
     "name": "stdout",
     "output_type": "stream",
     "text": [
      "frequency distribution balanced data:  [(0, 48612), (1, 48612), (2, 48612), (3, 48612), (4, 48612)]\n",
      "head:    PhraseId SentenceId                                             Phrase  \\\n",
      "0        1          1  A series of escapades demonstrating the adage ...   \n",
      "1        2          1  A series of escapades demonstrating the adage ...   \n",
      "2        3          1                                           A series   \n",
      "3        4          1                                                  A   \n",
      "4        5          1                                             series   \n",
      "\n",
      "   Sentiment  \n",
      "0          1  \n",
      "1          2  \n",
      "2          2  \n",
      "3          2  \n",
      "4          2  \n",
      "shape:  (243060, 4)\n"
     ]
    }
   ],
   "source": [
    "balance_data(train_local, 'train_local_balanced.csv')"
   ]
  }
 ],
 "metadata": {
  "kernelspec": {
   "display_name": "Python 3",
   "language": "python",
   "name": "python3"
  },
  "language_info": {
   "codemirror_mode": {
    "name": "ipython",
    "version": 3
   },
   "file_extension": ".py",
   "mimetype": "text/x-python",
   "name": "python",
   "nbconvert_exporter": "python",
   "pygments_lexer": "ipython3",
   "version": "3.6.7"
  }
 },
 "nbformat": 4,
 "nbformat_minor": 2
}
