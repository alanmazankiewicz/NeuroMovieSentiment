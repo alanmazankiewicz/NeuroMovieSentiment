{
 "cells": [
  {
   "cell_type": "code",
   "execution_count": 1,
   "metadata": {},
   "outputs": [],
   "source": [
    "# split original training data into train_local, valid_local and test_local \n",
    "from sklearn.model_selection import train_test_split\n",
    "import pandas as pd\n",
    "from collections import Counter"
   ]
  },
  {
   "cell_type": "code",
   "execution_count": 2,
   "metadata": {},
   "outputs": [],
   "source": [
    "path = '../Kaggle'\n",
    "train = pd.read_table(f'{path}/train.tsv')"
   ]
  },
  {
   "cell_type": "code",
   "execution_count": 3,
   "metadata": {},
   "outputs": [],
   "source": [
    "# split train in train_local, valid_local, test_local according to sentenceId\n",
    "\n",
    "mask = (train['SentenceId'] <= 4882)\n",
    "train_local = train.loc[mask].copy()\n",
    "mask = (train['SentenceId'] > 4882) & (train['SentenceId'] <= 6707)\n",
    "valid_local = train.loc[mask].copy()\n",
    "mask = (train['SentenceId'] > 6707)\n",
    "test_local = train.loc[mask].copy()"
   ]
  },
  {
   "cell_type": "code",
   "execution_count": 4,
   "metadata": {},
   "outputs": [
    {
     "name": "stdout",
     "output_type": "stream",
     "text": [
      "(93645, 4)\n",
      "(31190, 4)\n",
      "(31225, 4)\n",
      "(156060, 4)\n",
      "train_local label distribution:  [(0, 4065), (1, 15786), (2, 48612), (3, 19794), (4, 5388)]\n",
      "test_local label distribution:  [(0, 1443), (1, 5918), (2, 15362), (3, 6611), (4, 1891)]\n",
      "valid_local label distribution:  [(0, 1564), (1, 5569), (2, 15608), (3, 6522), (4, 1927)]\n"
     ]
    }
   ],
   "source": [
    "# control shapes\n",
    "print(train_local.shape)\n",
    "print(valid_local.shape)\n",
    "print(test_local.shape)\n",
    "print(train.shape)\n",
    "\n",
    "# control label distribution \n",
    "print('train_local label distribution: ', sorted(Counter(train_local.iloc[:,-1]).items()))  # [0.043, 0.17,0.5, 0.21, 0.06]\n",
    "print('test_local label distribution: ', sorted(Counter(test_local.iloc[:,-1]).items())) # [0.05, 0.19, 0.5, 0.21, 0.06]\n",
    "print('valid_local label distribution: ', sorted(Counter(valid_local.iloc[:,-1]).items())) # [0.05, 0.18, 0.5, 0.21, 0.06]"
   ]
  },
  {
   "cell_type": "code",
   "execution_count": 5,
   "metadata": {},
   "outputs": [],
   "source": [
    "train_local.to_csv(f'{path}/train_local.csv', header = True, index=False)\n",
    "valid_local.to_csv(f'{path}/valid_local.csv', header = True, index=False)\n",
    "test_local.to_csv(f'{path}/test_local.csv', header = True, index=False)"
   ]
  },
  {
   "cell_type": "code",
   "execution_count": 6,
   "metadata": {},
   "outputs": [],
   "source": [
    "#------ extract sentences from test_local and save in test_local_sentences"
   ]
  },
  {
   "cell_type": "code",
   "execution_count": 7,
   "metadata": {
    "scrolled": true
   },
   "outputs": [],
   "source": [
    "def filter_sentences(input_df):\n",
    "    df = input_df.copy()\n",
    "    df.loc[:,'phrase_len'] = df['Phrase'].apply(len)\n",
    "    idx = df.groupby(['SentenceId'])['phrase_len'].idxmax()\n",
    "    df = df.loc[idx,]\n",
    "    df = df[['PhraseId', 'SentenceId', 'Phrase', 'Sentiment']]\n",
    "    return df"
   ]
  },
  {
   "cell_type": "code",
   "execution_count": 8,
   "metadata": {},
   "outputs": [],
   "source": [
    "test_local_sentences = filter_sentences(test_local)"
   ]
  },
  {
   "cell_type": "code",
   "execution_count": 9,
   "metadata": {},
   "outputs": [],
   "source": [
    "test_local_sentences.to_csv(f'{path}/test_local_sentences.csv', header = True, index=False)"
   ]
  }
 ],
 "metadata": {
  "kernelspec": {
   "display_name": "Python 3",
   "language": "python",
   "name": "python3"
  },
  "language_info": {
   "codemirror_mode": {
    "name": "ipython",
    "version": 3
   },
   "file_extension": ".py",
   "mimetype": "text/x-python",
   "name": "python",
   "nbconvert_exporter": "python",
   "pygments_lexer": "ipython3",
   "version": "3.6.7"
  }
 },
 "nbformat": 4,
 "nbformat_minor": 2
}
